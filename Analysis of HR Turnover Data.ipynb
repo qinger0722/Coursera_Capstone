{
    "cells": [
        {
            "cell_type": "markdown",
            "metadata": {
                "collapsed": true
            },
            "source": "# Analysis of HR Turnover Data"
        },
        {
            "cell_type": "markdown",
            "metadata": {},
            "source": "--Used only for IBM Applied Data Science Capstone Project"
        },
        {
            "cell_type": "markdown",
            "metadata": {},
            "source": "# 1.\tIntroduction: Business Problem\n\nIn this project, I will use the data analysis skills I learned to solve a problem related to my work. I worked as a HRIS Specialist; I have been dealing with a lot of HR data. Currently, my company is facing a new problem, the turnover rate is getting much higher than normal. So, the HR VP wants me to do some analysis on the turnover data to find out why the turnover rate is getting higher, are the terminated employees somewhat have same characteristic? For example, are they all have higher education? How long have they been stayed with the company? Will the gender affect turnover rate? etc.\n\nWe will use our data science power to analysis the data based on certain criteria and provide some best possible reasons that will cause the problem and then we can work with other teams to implement some project to prevent the termination happen. Then finally lower the hiring and training cost of the company."
        },
        {
            "cell_type": "markdown",
            "metadata": {},
            "source": "# 2.\tData\nNowadays, most of the big companies are using centralized HR data system to store employee data. So, it is very easy to get data from the system. Most of the HR software also provides report output which can be saved as excel, csv etc. So, in this project, my data source will be a report from HR system.\n\nIn this project, we will try to get a report from the HR system what contain: Termination Status, Hire Date, Marital Status, Birth Date, Gender, Highest Education, Termination Date, Termination Reason, Salary Comp Ratio, Etc. \nWe will try to analysis whether below characteristics like Gender, Material Status, Education, Comp Ratio, Tenure with the company will affect the termination. No personal data will be included. And also, the data will just be some sample date from the system.\n\nHowever, the data from the HR system will also has some issue, like tome data sets don\u2019t have complete value, like Highest education, Marital Status are not mandatory fields in the system. We will do data cleaning before we analysis the data.\n\nThis analysis will only use the termination with recent 18 months as the old data may not reflect the current market status.\n"
        },
        {
            "cell_type": "code",
            "execution_count": null,
            "metadata": {},
            "outputs": [],
            "source": ""
        }
    ],
    "metadata": {
        "kernelspec": {
            "display_name": "Python 3.7",
            "language": "python",
            "name": "python3"
        },
        "language_info": {
            "codemirror_mode": {
                "name": "ipython",
                "version": 3
            },
            "file_extension": ".py",
            "mimetype": "text/x-python",
            "name": "python",
            "nbconvert_exporter": "python",
            "pygments_lexer": "ipython3",
            "version": "3.7.9"
        }
    },
    "nbformat": 4,
    "nbformat_minor": 1
}